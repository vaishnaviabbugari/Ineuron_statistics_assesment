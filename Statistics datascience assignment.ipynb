{
 "cells": [
  {
   "cell_type": "markdown",
   "id": "3e23aa82",
   "metadata": {},
   "source": [
    "### Q-1. A university wants to understand the relationship between the SAT scores of its applicants and their college GPA. They collect data on 500 students, including their SAT scores (out of 1600) and their college GPA (on a 4.0 scale). They find that the correlation coefficient between SAT scores and college GPA is 0.7. What does this correlation coefficient indicate about the relationship between SAT scores and college GPA?"
   ]
  },
  {
   "cell_type": "raw",
   "id": "3c0776e7",
   "metadata": {},
   "source": [
    "The correlation coefficient between SAT scores and college GPA of 0.7 indicates a strong positive linear relationship between these two variables.\n",
    "\n",
    "A correlation coefficient ranges from -1 to +1, where:\n",
    "\n",
    "A value of +1 indicates a perfect positive linear relationship, meaning that as SAT scores increase, college GPA also increases in a perfectly consistent manner.\n",
    "A value of -1 indicates a perfect negative linear relationship, meaning that as SAT scores increase, college GPA decreases in a perfectly consistent manner.\n",
    "A value of 0 indicates no linear relationship between the variables.\n",
    "In this case, a correlation coefficient of 0.7 indicates a strong positive linear relationship. It suggests that as SAT scores increase, there is a strong tendency for college GPA to also increase. However, it's important to note that correlation does not imply causation. The correlation coefficient only measures the strength and direction of the linear relationship, but it does not indicate a cause-and-effect relationship between SAT scores and college GPA."
   ]
  },
  {
   "cell_type": "code",
   "execution_count": 1,
   "id": "b165944b",
   "metadata": {},
   "outputs": [
    {
     "name": "stdout",
     "output_type": "stream",
     "text": [
      "Correlation Coefficient: 0.9417828910737979\n"
     ]
    }
   ],
   "source": [
    "import numpy as np\n",
    "import scipy.stats as stats\n",
    "\n",
    "# Sample data\n",
    "sat_scores = [1240, 1360, 1480, 1200, 1590, 1350, 1530, 1300, 1470, 1390]\n",
    "college_gpa = [3.2, 3.5, 3.8, 2.9, 3.9, 3.4, 3.7, 3.1, 3.8, 3.6]\n",
    "\n",
    "# Calculate correlation coefficient\n",
    "correlation_coef, p_value = stats.pearsonr(sat_scores, college_gpa)\n",
    "\n",
    "# Print correlation coefficient\n",
    "print(\"Correlation Coefficient:\", correlation_coef)\n"
   ]
  },
  {
   "cell_type": "markdown",
   "id": "fd19bb94",
   "metadata": {},
   "source": [
    "### Q-2. Consider a dataset containing the heights (in centimeters) of 1000 individuals. Themean height is 170 cm with a standard deviation of 10 cm. The dataset is approximately normally distributed, and its skewness is approximately zero. Based on this information, answer the following questions:"
   ]
  },
  {
   "cell_type": "raw",
   "id": "3ec0ce02",
   "metadata": {},
   "source": [
    "a. What percentage of individuals in the dataset have heights between 160 cm\n",
    "and 180 cm?\n",
    "b. If we randomly select 100 individuals from the dataset, what is the probability\n",
    "that their average height is greater than 175 cm?\n",
    "c. Assuming the dataset follows a normal distribution, what is the z-score\n",
    "corresponding to a height of 185 cm?\n",
    "d. We know that 5% of the dataset has heights below a certain value. What is\n",
    "the approximate height corresponding to this threshold?\n",
    "e. Calculate the coefficient of variation (CV) for the dataset.\n",
    "f. Calculate the skewness of the dataset and interpret the result."
   ]
  },
  {
   "cell_type": "raw",
   "id": "00d6de54",
   "metadata": {},
   "source": [
    "a. To calculate the percentage of individuals with heights between 160 cm and 180 cm, we need to calculate the area under the normal distribution curve between these two heights. Since the dataset is approximately normally distributed, we can use the properties of the normal distribution.\n",
    "\n",
    "We will use the cumulative distribution function (CDF) of the normal distribution to calculate the percentage."
   ]
  },
  {
   "cell_type": "code",
   "execution_count": 2,
   "id": "75cc9aad",
   "metadata": {},
   "outputs": [
    {
     "name": "stdout",
     "output_type": "stream",
     "text": [
      "The percentage of individuals with heights between 160 cm and 180 cm is: 68.27%\n"
     ]
    }
   ],
   "source": [
    "import scipy.stats as stats\n",
    "\n",
    "mean_height = 170\n",
    "std_deviation = 10\n",
    "\n",
    "# Calculate the z-scores for the heights\n",
    "z1 = (160 - mean_height) / std_deviation\n",
    "z2 = (180 - mean_height) / std_deviation\n",
    "\n",
    "# Calculate the percentage using CDF\n",
    "percentage = (stats.norm.cdf(z2) - stats.norm.cdf(z1)) * 100\n",
    "\n",
    "print(f\"The percentage of individuals with heights between 160 cm and 180 cm is: {percentage:.2f}%\")\n"
   ]
  },
  {
   "cell_type": "raw",
   "id": "ce172518",
   "metadata": {},
   "source": [
    "b. To calculate the probability that the average height of 100 randomly selected individuals is greater than 175 cm, we need to use the properties of the sampling distribution of the sample mean."
   ]
  },
  {
   "cell_type": "code",
   "execution_count": 3,
   "id": "25fb404f",
   "metadata": {},
   "outputs": [
    {
     "name": "stdout",
     "output_type": "stream",
     "text": [
      "The probability that the average height of 100 individuals is greater than 175 cm is: 0.0000\n"
     ]
    }
   ],
   "source": [
    "sample_size = 100\n",
    "sample_mean = mean_height\n",
    "sample_std_deviation = std_deviation / (sample_size ** 0.5)\n",
    "\n",
    "# Calculate the z-score for the sample mean\n",
    "z = (175 - sample_mean) / sample_std_deviation\n",
    "\n",
    "# Calculate the probability using the survival function (1 - CDF)\n",
    "probability = 1 - stats.norm.cdf(z)\n",
    "\n",
    "print(f\"The probability that the average height of 100 individuals is greater than 175 cm is: {probability:.4f}\")\n"
   ]
  },
  {
   "cell_type": "raw",
   "id": "0a2f8ccf",
   "metadata": {},
   "source": [
    "c. To calculate the z-score corresponding to a height of 185 cm, we can use the formula:"
   ]
  },
  {
   "cell_type": "code",
   "execution_count": 5,
   "id": "59e97045",
   "metadata": {},
   "outputs": [
    {
     "name": "stdout",
     "output_type": "stream",
     "text": [
      "The z-score corresponding to a height of 185 cm is: 1.50\n"
     ]
    }
   ],
   "source": [
    "height = 185\n",
    "z = (height - mean_height) / std_deviation\n",
    "\n",
    "print(f\"The z-score corresponding to a height of 185 cm is: {z:.2f}\")"
   ]
  },
  {
   "cell_type": "raw",
   "id": "5bd0b592",
   "metadata": {},
   "source": [
    "d. To find the approximate height corresponding to the threshold of 5%, we can use the inverse of the cumulative distribution function (CDF) of the normal distribution."
   ]
  },
  {
   "cell_type": "code",
   "execution_count": 6,
   "id": "8391ff84",
   "metadata": {},
   "outputs": [
    {
     "name": "stdout",
     "output_type": "stream",
     "text": [
      "The approximate height corresponding to the 5% threshold is: 153.55 cm\n"
     ]
    }
   ],
   "source": [
    "threshold = 0.05\n",
    "\n",
    "# Calculate the z-score corresponding to the threshold\n",
    "z = stats.norm.ppf(threshold)\n",
    "\n",
    "# Calculate the height using the z-score\n",
    "height = mean_height + z * std_deviation\n",
    "\n",
    "print(f\"The approximate height corresponding to the 5% threshold is: {height:.2f} cm\")"
   ]
  },
  {
   "cell_type": "raw",
   "id": "6fd4e508",
   "metadata": {},
   "source": [
    "e. The coefficient of variation (CV) is a measure of relative variability and is calculated as the ratio of the standard deviation to the mean. It provides a standardized measure of dispersion."
   ]
  },
  {
   "cell_type": "code",
   "execution_count": 7,
   "id": "c57e5561",
   "metadata": {},
   "outputs": [
    {
     "name": "stdout",
     "output_type": "stream",
     "text": [
      "The coefficient of variation (CV) for the dataset is: 5.88%\n"
     ]
    }
   ],
   "source": [
    "cv = (std_deviation / mean_height) * 100\n",
    "\n",
    "print(f\"The coefficient of variation (CV) for the dataset is: {cv:.2f}%\")"
   ]
  },
  {
   "cell_type": "raw",
   "id": "0dac5110",
   "metadata": {},
   "source": [
    "f. Skewness is a measure of the asymmetry of a probability distribution. A skewness value of approximately zero indicates that the dataset is approximately symmetric."
   ]
  },
  {
   "cell_type": "code",
   "execution_count": 8,
   "id": "b855aade",
   "metadata": {},
   "outputs": [
    {
     "name": "stdout",
     "output_type": "stream",
     "text": [
      "The skewness of the dataset is approximately zero, indicating that the dataset is approximately symmetric.\n"
     ]
    }
   ],
   "source": [
    "skewness = 0\n",
    "print(\"The skewness of the dataset is approximately zero, indicating that the dataset is approximately symmetric.\")"
   ]
  },
  {
   "cell_type": "markdown",
   "id": "346d66af",
   "metadata": {},
   "source": [
    "### Q-3. Consider the ‘Blood Pressure Before’ and ‘Blood Pressure After’ columns from the data and calculate the following\n",
    "https://drive.google.com/file/d/1mCjtYHiX--mMUjicuaP2gH3k-SnFxt8Y/view?usp=share_"
   ]
  },
  {
   "cell_type": "raw",
   "id": "0cadbc25",
   "metadata": {},
   "source": [
    "a. Measure the dispersion in both and interpret the results.\n",
    "b. Calculate mean and 5% confidence interval and plot it in a graph\n",
    "c. Calculate the Mean absolute deviation and Standard deviation and interpret\n",
    "the results.\n",
    "d. Calculate the correlation coefficient and check the significance of it at 1% level\n",
    "of significance."
   ]
  },
  {
   "cell_type": "raw",
   "id": "4ba52e8d",
   "metadata": {},
   "source": [
    "a. To measure the dispersion in the \"Blood Pressure Before\" and \"Blood Pressure After\" data, we can calculate the range, interquartile range (IQR), and variance.\n",
    "\n",
    "Range: The range is the difference between the maximum and minimum values in a dataset. It gives an idea of the spread of the data.\n",
    "Range of \"Blood Pressure Before\" = Maximum value - Minimum value\n",
    "Range of \"Blood Pressure After\" = Maximum value - Minimum value\n",
    "\n",
    "Interquartile Range (IQR): The IQR is the range between the 25th and 75th percentiles, representing the middle 50% of the data.\n",
    "IQR of \"Blood Pressure Before\" = 75th percentile - 25th percentile\n",
    "IQR of \"Blood Pressure After\" = 75th percentile - 25th percentile\n",
    "\n",
    "Variance: The variance measures how far each value in the dataset is from the mean. It gives an indication of the spread around the average.\n",
    "Variance of \"Blood Pressure Before\" = Sum of (each value - mean)^2 / (total number of values)\n",
    "Variance of \"Blood Pressure After\" = Sum of (each value - mean)^2 / (total number of values)\n",
    "\n",
    "Interpreting the results:\n",
    "\n",
    "A larger range indicates a wider spread of values.\n",
    "A larger IQR suggests greater dispersion in the middle 50% of the data.\n",
    "A larger variance implies more variability in the data points."
   ]
  },
  {
   "cell_type": "raw",
   "id": "2bcc096d",
   "metadata": {},
   "source": [
    "b. To calculate the mean and 5% confidence interval and plot them on a graph, we can follow these steps:\n",
    "\n",
    "Calculate the mean of \"Blood Pressure Before\" and \"Blood Pressure After\":\n",
    "Mean = Sum of all values / Total number of values\n",
    "\n",
    "Calculate the 5% confidence interval:\n",
    "Confidence interval = Mean ± (Critical value * Standard error)\n",
    "The critical value depends on the sample size and desired confidence level. For a 5% confidence level, the critical value is typically 1.96.\n",
    "Standard error = Standard deviation / sqrt(sample size)\n",
    "\n",
    "Plot the mean and confidence interval on a graph:\n",
    "Certainly! To plot the mean and 5% confidence interval for both \"Blood Pressure Before\" and \"Blood Pressure After,\" we can use a bar plot with error bars. Here's an example code using Python and the matplotlib library:"
   ]
  },
  {
   "cell_type": "code",
   "execution_count": 3,
   "id": "97dd04d2",
   "metadata": {},
   "outputs": [],
   "source": [
    "import pandas as pd\n",
    "df=pd.read_csv(\"C:\\\\Users\\\\user\\\\Downloads\\\\data.csv\")"
   ]
  },
  {
   "cell_type": "code",
   "execution_count": 54,
   "id": "cb273db8",
   "metadata": {},
   "outputs": [
    {
     "name": "stderr",
     "output_type": "stream",
     "text": [
      "No artists with labels found to put in legend.  Note that artists whose label start with an underscore are ignored when legend() is called with no argument.\n"
     ]
    },
    {
     "data": {
      "image/png": "[encoded data removed]",
      "text/plain": [
       "<Figure size 432x288 with 1 Axes>"
      ]
     },
     "metadata": {
      "needs_background": "light"
     },
     "output_type": "display_data"
    }
   ],
   "source": [
    "import matplotlib.pyplot as plt\n",
    "import numpy as np\n",
    "\n",
    "# Data\n",
    "blood_pressure_before = df[\" Blood Pressure Before (mmHg)\"]\n",
    "blood_pressure_after = df[\" Blood Pressure After (mmHg)\"]\n",
    "\n",
    "# Calculate mean and standard error\n",
    "mean_before = np.mean(blood_pressure_before)\n",
    "mean_after = np.mean(blood_pressure_after)\n",
    "std_before = np.std(blood_pressure_before)\n",
    "std_after = np.std(blood_pressure_after)\n",
    "n = len(blood_pressure_before)\n",
    "critical_value = 1.96  # For a 5% confidence level\n",
    "\n",
    "# Calculate confidence interval\n",
    "ci_before = critical_value * std_before / np.sqrt(n)\n",
    "ci_after = critical_value * std_after / np.sqrt(n)\n",
    "\n",
    "# Plotting\n",
    "labels = ['Blood Pressure Before', 'Blood Pressure After']\n",
    "mean_values = [mean_before, mean_after]\n",
    "ci_values = [ci_before, ci_after]\n",
    "\n",
    "x = np.arange(len(labels))\n",
    "width = 0.35\n",
    "\n",
    "fig, ax = plt.subplots()\n",
    "rects1 = ax.bar(x, mean_values, width, yerr=ci_values, alpha=0.7)\n",
    "\n",
    "ax.set_ylabel('Mean')\n",
    "ax.set_title('Mean and 5% Confidence Interval')\n",
    "ax.set_xticks(x)\n",
    "ax.set_xticklabels(labels)\n",
    "ax.legend()\n",
    "\n",
    "plt.tight_layout()\n",
    "plt.show()\n"
   ]
  },
  {
   "cell_type": "raw",
   "id": "eb9317d2",
   "metadata": {},
   "source": [
    "c. To calculate the mean absolute deviation (MAD) and standard deviation (SD) and interpret the results:\n",
    "\n",
    "Mean Absolute Deviation (MAD): MAD measures the average distance between each data point and the mean.\n",
    "MAD = Sum of (|each value - mean|) / (total number of values)\n",
    "\n",
    "Standard Deviation (SD): SD measures the average deviation from the mean and provides an indication of the spread of the data.\n",
    "SD = sqrt(Variance)\n",
    "\n",
    "Interpreting the results:\n",
    "\n",
    "A larger MAD or SD suggests greater variability in the dataset.\n",
    "A smaller MAD or SD indicates less dispersion around the mean."
   ]
  },
  {
   "cell_type": "raw",
   "id": "4aa982f7",
   "metadata": {},
   "source": [
    "d. To calculate the correlation coefficient and check its significance at the 1% level of significance:\n",
    "\n",
    "Correlation Coefficient: The correlation coefficient measures the strength and direction of the linear relationship between two variables. In this case, it can determine the correlation between \"Blood Pressure Before\" and \"Blood Pressure After.\"\n",
    "There are different methods to calculate the correlation coefficient, such as Pearson correlation coefficient or Spearman correlation coefficient. The choice depends on the nature of the data and the assumptions made.\n",
    "\n",
    "Once you have the correlation coefficient value, you can check its significance at the 1% level of significance using a statistical test such as the t-test or the p-value associated with the correlation coefficient."
   ]
  },
  {
   "cell_type": "markdown",
   "id": "c40e7d21",
   "metadata": {},
   "source": [
    "### Q-4. A group of 20 friends decide to play a game in which they each write a numberbetween 1 and 20 on a slip of paper and put it into a hat. They then draw one slip of paper at random. What is the probability that the number on the slip of paper is a perfect square (i.e., 1, 4, 9, or 16)?"
   ]
  },
  {
   "cell_type": "raw",
   "id": "f89d4594",
   "metadata": {},
   "source": [
    "To calculate the probability that the number drawn from the hat is a perfect square, we need to determine the number of favorable outcomes (slips of paper with perfect square numbers) and the total number of possible outcomes (slips of paper with any number from 1 to 20).\n",
    "\n",
    "Favorable outcomes:\n",
    "There are four perfect square numbers between 1 and 20: 1, 4, 9, and 16.\n",
    "\n",
    "Total outcomes:\n",
    "Since there are 20 slips of paper in the hat, the total number of possible outcomes is 20.\n",
    "\n",
    "Now, we can calculate the probability by dividing the number of favorable outcomes by the total number of outcomes:\n",
    "\n",
    "Probability = (Number of favorable outcomes) / (Total number of outcomes)\n",
    "Probability = 4 / 20\n",
    "Probability = 1 / 5\n",
    "\n",
    "Therefore, the probability that the number drawn from the hat is a perfect square is 1/5 or 0.2 (20%)."
   ]
  },
  {
   "cell_type": "markdown",
   "id": "da37e28b",
   "metadata": {},
   "source": [
    "### Q-5. A certain city has two taxi companies: Company A has 80% of the taxis and Company B has 20% of the taxis. Company A's taxis have a 95% success rate for picking up passengers on time, while Company B's taxis have a 90% success rate. If a randomly selected taxi is late, what is the probability that it belongs to Company A?"
   ]
  },
  {
   "cell_type": "code",
   "execution_count": null,
   "id": "1a0a85d4",
   "metadata": {},
   "outputs": [],
   "source": [
    "To calculate the probability that a randomly selected late taxi belongs to Company A, we can use Bayes' theorem.\n",
    "\n",
    "Let's denote the events as follows:\n",
    "A: Taxi belongs to Company A\n",
    "B: Taxi belongs to Company B\n",
    "L: Taxi is late\n",
    "\n",
    "We are given the following probabilities:\n",
    "P(A) = 0.8 (Company A has 80% of the taxis)\n",
    "P(B) = 0.2 (Company B has 20% of the taxis)\n",
    "P(L|A) = 0.05 (Company A's taxis have a 95% success rate for picking up passengers on time)\n",
    "P(L|B) = 0.10 (Company B's taxis have a 90% success rate for picking up passengers on time)\n",
    "\n",
    "We want to calculate P(A|L), which represents the probability that a randomly selected late taxi belongs to Company A.\n",
    "\n",
    "According to Bayes' theorem:\n",
    "P(A|L) = (P(L|A) * P(A)) / P(L)\n",
    "\n",
    "To calculate P(L), we can use the law of total probability:\n",
    "P(L) = P(L|A) * P(A) + P(L|B) * P(B)\n",
    "\n",
    "Now, let's plug in the given values and calculate the probability:\n",
    "\n",
    "P(L) = (0.05 * 0.8) + (0.10 * 0.2) = 0.04 + 0.02 = 0.06\n",
    "\n",
    "P(A|L) = (0.05 * 0.8) / 0.06 = 0.04 / 0.06 = 2/3\n",
    "\n",
    "Therefore, the probability that a randomly selected late taxi belongs to Company A is 2/3 or approximately 0.67 (67%)."
   ]
  },
  {
   "cell_type": "markdown",
   "id": "4e01fcb1",
   "metadata": {},
   "source": [
    "### Q-6. A pharmaceutical company is developing a drug that is supposed to reduce blood pressure. They conduct a clinical trial with 100 patients and record their blood pressure before and after taking the drug. The company wants to know if the change in blood pressure follows a normal distribution."
   ]
  },
  {
   "cell_type": "raw",
   "id": "088d4ea5",
   "metadata": {},
   "source": [
    "to determine if the change in blood pressure follows a normal distribution, you can perform a statistical test. One commonly used test is the Shapiro-Wilk test, which assesses the normality of a distribution.\n",
    "\n",
    "Here's an example of how you can perform the Shapiro-Wilk test using Python and the SciPy library:"
   ]
  },
  {
   "cell_type": "code",
   "execution_count": 74,
   "id": "e71910e3",
   "metadata": {},
   "outputs": [
    {
     "data": {
      "text/html": [
       "<div>\n",
       "<style scoped>\n",
       "    .dataframe tbody tr th:only-of-type {\n",
       "        vertical-align: middle;\n",
       "    }\n",
       "\n",
       "    .dataframe tbody tr th {\n",
       "        vertical-align: top;\n",
       "    }\n",
       "\n",
       "    .dataframe thead th {\n",
       "        text-align: right;\n",
       "    }\n",
       "</style>\n",
       "<table border=\"1\" class=\"dataframe\">\n",
       "  <thead>\n",
       "    <tr style=\"text-align: right;\">\n",
       "      <th></th>\n",
       "      <th>Patient ID</th>\n",
       "      <th>Blood Pressure Before (mmHg)</th>\n",
       "      <th>Blood Pressure After (mmHg)</th>\n",
       "    </tr>\n",
       "  </thead>\n",
       "  <tbody>\n",
       "    <tr>\n",
       "      <th>0</th>\n",
       "      <td>1</td>\n",
       "      <td>130</td>\n",
       "      <td>120</td>\n",
       "    </tr>\n",
       "    <tr>\n",
       "      <th>1</th>\n",
       "      <td>2</td>\n",
       "      <td>142</td>\n",
       "      <td>135</td>\n",
       "    </tr>\n",
       "    <tr>\n",
       "      <th>2</th>\n",
       "      <td>3</td>\n",
       "      <td>120</td>\n",
       "      <td>118</td>\n",
       "    </tr>\n",
       "    <tr>\n",
       "      <th>3</th>\n",
       "      <td>4</td>\n",
       "      <td>135</td>\n",
       "      <td>127</td>\n",
       "    </tr>\n",
       "    <tr>\n",
       "      <th>4</th>\n",
       "      <td>5</td>\n",
       "      <td>148</td>\n",
       "      <td>140</td>\n",
       "    </tr>\n",
       "    <tr>\n",
       "      <th>...</th>\n",
       "      <td>...</td>\n",
       "      <td>...</td>\n",
       "      <td>...</td>\n",
       "    </tr>\n",
       "    <tr>\n",
       "      <th>95</th>\n",
       "      <td>96</td>\n",
       "      <td>136</td>\n",
       "      <td>129</td>\n",
       "    </tr>\n",
       "    <tr>\n",
       "      <th>96</th>\n",
       "      <td>97</td>\n",
       "      <td>143</td>\n",
       "      <td>137</td>\n",
       "    </tr>\n",
       "    <tr>\n",
       "      <th>97</th>\n",
       "      <td>98</td>\n",
       "      <td>127</td>\n",
       "      <td>123</td>\n",
       "    </tr>\n",
       "    <tr>\n",
       "      <th>98</th>\n",
       "      <td>99</td>\n",
       "      <td>139</td>\n",
       "      <td>135</td>\n",
       "    </tr>\n",
       "    <tr>\n",
       "      <th>99</th>\n",
       "      <td>100</td>\n",
       "      <td>135</td>\n",
       "      <td>130</td>\n",
       "    </tr>\n",
       "  </tbody>\n",
       "</table>\n",
       "<p>100 rows × 3 columns</p>\n",
       "</div>"
      ],
      "text/plain": [
       "    Patient ID   Blood Pressure Before (mmHg)   Blood Pressure After (mmHg)\n",
       "0            1                            130                           120\n",
       "1            2                            142                           135\n",
       "2            3                            120                           118\n",
       "3            4                            135                           127\n",
       "4            5                            148                           140\n",
       "..         ...                            ...                           ...\n",
       "95          96                            136                           129\n",
       "96          97                            143                           137\n",
       "97          98                            127                           123\n",
       "98          99                            139                           135\n",
       "99         100                            135                           130\n",
       "\n",
       "[100 rows x 3 columns]"
      ]
     },
     "execution_count": 74,
     "metadata": {},
     "output_type": "execute_result"
    }
   ],
   "source": [
    "df"
   ]
  },
  {
   "cell_type": "code",
   "execution_count": 86,
   "id": "014a77d9",
   "metadata": {},
   "outputs": [],
   "source": [
    "import pandas as pd\n",
    "from scipy import stats\n",
    "\n",
    "# Create a DataFrame from the provided dataset\n",
    "data = {\n",
    "    'Patient ID': range(0, 100),\n",
    "    'Blood Pressure Before (mmHg)': df[' Blood Pressure Before (mmHg)'],\n",
    "    'Blood Pressure After (mmHg)' : df[' Blood Pressure After (mmHg)']}"
   ]
  },
  {
   "cell_type": "code",
   "execution_count": 87,
   "id": "a6bffba0",
   "metadata": {},
   "outputs": [
    {
     "data": {
      "text/html": [
       "<div>\n",
       "<style scoped>\n",
       "    .dataframe tbody tr th:only-of-type {\n",
       "        vertical-align: middle;\n",
       "    }\n",
       "\n",
       "    .dataframe tbody tr th {\n",
       "        vertical-align: top;\n",
       "    }\n",
       "\n",
       "    .dataframe thead th {\n",
       "        text-align: right;\n",
       "    }\n",
       "</style>\n",
       "<table border=\"1\" class=\"dataframe\">\n",
       "  <thead>\n",
       "    <tr style=\"text-align: right;\">\n",
       "      <th></th>\n",
       "      <th>Patient ID</th>\n",
       "      <th>Blood Pressure Before (mmHg)</th>\n",
       "      <th>Blood Pressure After (mmHg)</th>\n",
       "    </tr>\n",
       "  </thead>\n",
       "  <tbody>\n",
       "    <tr>\n",
       "      <th>0</th>\n",
       "      <td>0</td>\n",
       "      <td>130</td>\n",
       "      <td>120</td>\n",
       "    </tr>\n",
       "    <tr>\n",
       "      <th>1</th>\n",
       "      <td>1</td>\n",
       "      <td>142</td>\n",
       "      <td>135</td>\n",
       "    </tr>\n",
       "    <tr>\n",
       "      <th>2</th>\n",
       "      <td>2</td>\n",
       "      <td>120</td>\n",
       "      <td>118</td>\n",
       "    </tr>\n",
       "    <tr>\n",
       "      <th>3</th>\n",
       "      <td>3</td>\n",
       "      <td>135</td>\n",
       "      <td>127</td>\n",
       "    </tr>\n",
       "    <tr>\n",
       "      <th>4</th>\n",
       "      <td>4</td>\n",
       "      <td>148</td>\n",
       "      <td>140</td>\n",
       "    </tr>\n",
       "    <tr>\n",
       "      <th>...</th>\n",
       "      <td>...</td>\n",
       "      <td>...</td>\n",
       "      <td>...</td>\n",
       "    </tr>\n",
       "    <tr>\n",
       "      <th>95</th>\n",
       "      <td>95</td>\n",
       "      <td>136</td>\n",
       "      <td>129</td>\n",
       "    </tr>\n",
       "    <tr>\n",
       "      <th>96</th>\n",
       "      <td>96</td>\n",
       "      <td>143</td>\n",
       "      <td>137</td>\n",
       "    </tr>\n",
       "    <tr>\n",
       "      <th>97</th>\n",
       "      <td>97</td>\n",
       "      <td>127</td>\n",
       "      <td>123</td>\n",
       "    </tr>\n",
       "    <tr>\n",
       "      <th>98</th>\n",
       "      <td>98</td>\n",
       "      <td>139</td>\n",
       "      <td>135</td>\n",
       "    </tr>\n",
       "    <tr>\n",
       "      <th>99</th>\n",
       "      <td>99</td>\n",
       "      <td>135</td>\n",
       "      <td>130</td>\n",
       "    </tr>\n",
       "  </tbody>\n",
       "</table>\n",
       "<p>100 rows × 3 columns</p>\n",
       "</div>"
      ],
      "text/plain": [
       "    Patient ID  Blood Pressure Before (mmHg)  Blood Pressure After (mmHg)\n",
       "0            0                           130                          120\n",
       "1            1                           142                          135\n",
       "2            2                           120                          118\n",
       "3            3                           135                          127\n",
       "4            4                           148                          140\n",
       "..         ...                           ...                          ...\n",
       "95          95                           136                          129\n",
       "96          96                           143                          137\n",
       "97          97                           127                          123\n",
       "98          98                           139                          135\n",
       "99          99                           135                          130\n",
       "\n",
       "[100 rows x 3 columns]"
      ]
     },
     "execution_count": 87,
     "metadata": {},
     "output_type": "execute_result"
    }
   ],
   "source": [
    "pd.DataFrame(data)"
   ]
  },
  {
   "cell_type": "code",
   "execution_count": 91,
   "id": "aa06e912",
   "metadata": {},
   "outputs": [],
   "source": [
    "# Calculate the difference in blood pressure\n",
    "df['Change in Blood Pressure'] = df[' Blood Pressure Before (mmHg)'] - df[' Blood Pressure After (mmHg)']"
   ]
  },
  {
   "cell_type": "code",
   "execution_count": 92,
   "id": "5a3a875c",
   "metadata": {},
   "outputs": [
    {
     "data": {
      "text/plain": [
       "0     10\n",
       "1      7\n",
       "2      2\n",
       "3      8\n",
       "4      8\n",
       "      ..\n",
       "95     7\n",
       "96     6\n",
       "97     4\n",
       "98     4\n",
       "99     5\n",
       "Name: Change in Blood Pressure, Length: 100, dtype: int64"
      ]
     },
     "execution_count": 92,
     "metadata": {},
     "output_type": "execute_result"
    }
   ],
   "source": [
    "df['Change in Blood Pressure']"
   ]
  },
  {
   "cell_type": "markdown",
   "id": "4297b29d",
   "metadata": {},
   "source": [
    "### Q-7. The equations of two lines of regression, obtained in a correlation analysis between variables X and Y are as follows: "
   ]
  },
  {
   "cell_type": "raw",
   "id": "1e6271dd",
   "metadata": {},
   "source": [
    "and . 2𝑋 + 3 − 8 = 0 2𝑌 + 𝑋 − 5 = 0 The variance of 𝑋 = 4 Find the\n",
    "a. Variance of Y\n",
    "b. Coefficient of determination of C and Y\n",
    "c. Standard error of estimate of X on Y and of Y on X."
   ]
  },
  {
   "cell_type": "code",
   "execution_count": null,
   "id": "def08a5d",
   "metadata": {},
   "outputs": [],
   "source": [
    "To answer the given questions, let's assume the equations of the regression lines are as follows:\n",
    "\n",
    "Equation 1: 2X + 3Y - 8 = 0\n",
    "Equation 2: 2Y + X - 5 = 0"
   ]
  },
  {
   "cell_type": "raw",
   "id": "49eb6931",
   "metadata": {},
   "source": [
    "a. Variance of Y:\n",
    "Given that the variance of X is 4, we can find the variance of Y by using the equation of regression line 1. Rearranging the equation, we have:\n",
    "\n",
    "2X + 3Y - 8 = 0\n",
    "3Y = 8 - 2X\n",
    "Y = (8 - 2X) / 3\n",
    "\n",
    "Since the variance of X is 4, we know Var(X) = 4. To find the variance of Y, we substitute the equation for Y into Var(Y):\n",
    "\n",
    "Var(Y) = Var((8 - 2X) / 3)\n",
    "= (1/9) * Var(8 - 2X)\n",
    "= (1/9) * Var(-2X)\n",
    "= (1/9) * (-2)^2 * Var(X)\n",
    "= (1/9) * 4 * 4\n",
    "= 16/9\n",
    "\n",
    "Therefore, the variance of Y is 16/9."
   ]
  },
  {
   "cell_type": "raw",
   "id": "fe5b7a3f",
   "metadata": {},
   "source": [
    "b. Coefficient of determination of X and Y:\n",
    "The coefficient of determination (R^2) measures the proportion of the variance in the dependent variable (Y) that can be explained by the independent variable (X). It is calculated as the square of the correlation coefficient (r).\n",
    "\n",
    "From the given equations, we can determine the correlation coefficient between X and Y. Rearranging equation 2:\n",
    "\n",
    "2Y = 5 - X\n",
    "Y = (5 - X) / 2\n",
    "\n",
    "Comparing this equation with the equation of regression line 1, we can see that the slope (3) and the intercept (8) match. Therefore, the correlation coefficient (r) between X and Y is 1.\n",
    "\n",
    "The coefficient of determination is the square of the correlation coefficient:\n",
    "\n",
    "R^2 = r^2 = 1^2 = 1\n",
    "\n",
    "So, the coefficient of determination between X and Y is 1."
   ]
  },
  {
   "cell_type": "raw",
   "id": "946aada1",
   "metadata": {},
   "source": [
    "c. Standard error of estimate of X on Y and Y on X:\n",
    "The standard error of estimate measures the average distance between the observed values and the predicted values from the regression line.\n",
    "\n",
    "To calculate the standard error of estimate of X on Y (SEest(X|Y)), we need to use the equation of regression line 1. Rearranging the equation:\n",
    "\n",
    "2X = 8 - 3Y\n",
    "X = (8 - 3Y) / 2\n",
    "\n",
    "SEest(X|Y) can be calculated as the square root of the mean squared error (MSE). MSE is calculated as the sum of squared residuals divided by the degrees of freedom.\n",
    "\n",
    "The degrees of freedom (df) is the number of data points minus the number of parameters estimated (in this case, 2, which are the intercept and slope).\n",
    "\n",
    "Similarly, to calculate the standard error of estimate of Y on X (SEest(Y|X)), we need to use the equation of regression line 2 and follow the same steps.\n",
    "\n",
    "Unfortunately, the equations provided are incomplete, as there are missing coefficients for X and Y. Please provide the complete equations of the regression lines, including the coefficients, so that I can calculate the standard errors of estimate accurately.\n",
    "\n",
    "To calculate the standard error of estimate of X on Y (SEest(X|Y)) and Y on X (SEest(Y|X)), we need the complete equations of the regression lines. The provided equations, 2𝑋 + 3 − 8 = 0 and 2𝑌 + 𝑋 − 5 = 0, are missing coefficients for X and Y.\n",
    "\n",
    "Please provide the complete equations with coefficients for X and Y so that I can calculate the standard errors of estimate accurately."
   ]
  },
  {
   "cell_type": "markdown",
   "id": "9bc0cf20",
   "metadata": {},
   "source": [
    "### Q-8. The anxiety levels of 10 participants were measured before and after a new therapy. The scores are not normally distributed. Use the Wilcoxon signed-rank test to test whether the therapy had a significant effect on anxiety levels. The data is given below: Participant Before therapy After therapy Difference"
   ]
  },
  {
   "cell_type": "raw",
   "id": "11e165f9",
   "metadata": {},
   "source": [
    "Certainly! Here are the calculations for the Wilcoxon signed-rank test based on the data you provided:\n",
    "\n",
    "Step 1: Calculate the absolute values of the differences:\n",
    "|-3| = 3\n",
    "|-2| = 2\n",
    "|-2| = 2\n",
    "|-3| = 3\n",
    "|-1| = 1\n",
    "|-1| = 1\n",
    "|2| = 2\n",
    "|-1| = 1\n",
    "|-2| = 2\n",
    "|-2| = 2\n",
    "\n",
    "Step 2: Rank the absolute values of the differences:\n",
    "Ranking the absolute values from smallest to largest:\n",
    "1\n",
    "2\n",
    "2\n",
    "3\n",
    "1\n",
    "1\n",
    "4\n",
    "1\n",
    "2\n",
    "2\n",
    "\n",
    "Step 3: Calculate the sum of the positive ranks:\n",
    "Sum of positive ranks (W+): 1 + 2 + 2 + 4 = 9\n",
    "\n",
    "Step 4: Calculate the sum of the negative ranks:\n",
    "Sum of negative ranks (W-): 1 + 1 + 1 = 3\n",
    "\n",
    "Step 5: Calculate the smaller of W+ and W-:\n",
    "Smaller rank (W) = min(W+, W-) = min(9, 3) = 3\n",
    "\n",
    "Step 6: Calculate the test statistic (T):\n",
    "T = W - (n(n + 1))/4\n",
    "where n is the number of differences\n",
    "\n",
    "In this case, n = 10\n",
    "T = 3 - (10(10 + 1))/4 = 3 - 55/4 = 3 - 13.75 = -10.75\n",
    "\n",
    "Step 7: Determine the critical value or p-value:\n",
    "The critical value or p-value for the Wilcoxon signed-rank test depends on the significance level (alpha) and the sample size. Since the sample size is small (n = 10), you may refer to a Wilcoxon signed-rank table or use statistical software to determine the critical value or p-value.\n",
    "\n",
    "Please note that the critical value or p-value will depend on the specific significance level (alpha) you choose. Commonly used significance levels are 0.05 or 0.01.\n",
    "\n",
    "Once you have the critical value or p-value, you can compare it to your chosen significance level to determine if the therapy had a significant effect on anxiety levels."
   ]
  },
  {
   "cell_type": "markdown",
   "id": "beeec0bc",
   "metadata": {},
   "source": [
    "### Q-9. Given the score of students in multiple exams Test the hypothesis that the mean scores of all the students are the same. If not, name the student with the highest score."
   ]
  },
  {
   "cell_type": "raw",
   "id": "c0bfe6be",
   "metadata": {},
   "source": [
    "To test the hypothesis that the mean scores of all the students are the same, we can perform a one-way analysis of variance (ANOVA) test. This test compares the means of multiple groups to determine if there are significant differences between them.\n",
    "\n",
    "Let's conduct the ANOVA test using the given data:\n",
    "\n",
    "Hypothesis:\n",
    "Null hypothesis (H0): The mean scores of all the students are the same.\n",
    "Alternative hypothesis (HA): The mean scores of at least one student are different.\n",
    "\n",
    "We will use a significance level (alpha) of 0.05 for this test.\n",
    "\n",
    "Calculations:\n",
    "\n",
    "Step 1: Calculate the sum of squares between groups (SSB):\n",
    "\n",
    "Calculate the mean for each exam: Exam 1 mean = 83; Exam 2 mean = 83.4; Final Exam mean = 87.2\n",
    "Calculate the sum of squares between groups:\n",
    "SSB = (3 * (83 - 85)^2) + (3 * (83.4 - 85)^2) + (3 * (87.2 - 85)^2) = 46.4\n",
    "Step 2: Calculate the sum of squares within groups (SSW):\n",
    "\n",
    "Calculate the squared deviation of each score from its group mean:\n",
    "Karan: (85 - 83)^2 + (90 - 83.4)^2 + (92 - 87.2)^2 = 21.56\n",
    "Deepa: (70 - 83)^2 + (80 - 83.4)^2 + (85 - 87.2)^2 = 14.44\n",
    "Karthik: (90 - 83)^2 + (85 - 83.4)^2 + (88 - 87.2)^2 = 5.36\n",
    "Chandan: (75 - 83)^2 + (70 - 83.4)^2 + (75 - 87.2)^2 = 64.64\n",
    "Jeevan: (95 - 83)^2 + (92 - 83.4)^2 + (96 - 87.2)^2 = 95.04\n",
    "SSW = 21.56 + 14.44 + 5.36 + 64.64 + 95.04 = 201.04\n",
    "\n",
    "Step 3: Calculate the degrees of freedom:\n",
    "\n",
    "Degrees of freedom between groups (dfB) = Number of groups - 1 = 3 - 1 = 2\n",
    "Degrees of freedom within groups (dfW) = Number of observations - Number of groups = 15 - 3 = 12\n",
    "Step 4: Calculate the mean squares:\n",
    "Mean Square between groups (MSB) = SSB / dfB = 46.4 / 2 = 23.2\n",
    "Mean Square within groups (MSW) = SSW / dfW = 201.04 / 12 = 16.75\n",
    "\n",
    "Step 5: Calculate the F-statistic:\n",
    "F = MSB / MSW = 23.2 / 16.75 = 1.386\n",
    "\n",
    "Step 6: Compare the F-statistic to the critical value:\n",
    "Using the F-distribution table or statistical software, we find that the critical value for alpha = 0.05, dfB = 2, and dfW = 12 is approximately 3.89.\n",
    "\n",
    "Conclusion:\n",
    "Since the calculated F-statistic (1.386) is less than the critical value (3.89), we fail to reject the null hypothesis. This means that there is not enough evidence to conclude that the mean scores of all the students are significantly different.\n",
    "\n",
    "Therefore, based on the hypothesis test, we cannot determine a specific student with the highest score as there is no significant difference among the mean scores of the students."
   ]
  },
  {
   "cell_type": "markdown",
   "id": "58e718c8",
   "metadata": {},
   "source": [
    "### Q-10. A factory produces light bulbs, and the probability of a bulb being defective is 0.05. The factory produces a large batch of 500 light bulbs."
   ]
  },
  {
   "cell_type": "raw",
   "id": "17b371f9",
   "metadata": {},
   "source": [
    "a. What is the probability that exactly 20 bulbs are defective?\n",
    "b. What is the probability that at least 10 bulbs are defective?\n",
    "c. What is the probability that at max 15 bulbs are defective?\n",
    "d. On average, how many defective bulbs would you expect in a batch of 500?"
   ]
  },
  {
   "cell_type": "raw",
   "id": "7778fbca",
   "metadata": {},
   "source": [
    "To solve these probability questions, we can use the binomial distribution since we have a fixed number of trials (500 light bulbs) and each trial has two possible outcomes (defective or non-defective) with a known probability of success (0.05 for being defective).\n",
    "\n",
    "a. Probability of exactly 20 bulbs being defective:\n",
    "We can use the formula for the probability mass function of the binomial distribution:\n",
    "P(X = k) = C(n, k) * p^k * (1 - p)^(n - k)\n",
    "where:\n",
    "P(X = k) is the probability of getting exactly k successes (defective bulbs),\n",
    "n is the number of trials (500 light bulbs),\n",
    "k is the number of successes (20 defective bulbs),\n",
    "p is the probability of success (0.05, the probability of a bulb being defective),\n",
    "(1 - p) is the probability of failure (0.95, the probability of a bulb not being defective),\n",
    "C(n, k) is the binomial coefficient, which represents the number of ways to choose k successes from n trials.\n",
    "\n",
    "Using this formula:\n",
    "P(X = 20) = C(500, 20) * (0.05)^20 * (0.95)^(500 - 20)\n",
    "\n",
    "b. Probability of at least 10 bulbs being defective:\n",
    "To calculate this probability, we need to sum the probabilities of having 10, 11, 12, ..., 500 defective bulbs.\n",
    "P(X >= 10) = P(X = 10) + P(X = 11) + P(X = 12) + ... + P(X = 500)\n",
    "\n",
    "c. Probability of at most 15 bulbs being defective:\n",
    "To calculate this probability, we need to sum the probabilities of having 0, 1, 2, ..., 15 defective bulbs.\n",
    "P(X <= 15) = P(X = 0) + P(X = 1) + P(X = 2) + ... + P(X = 15)\n",
    "\n",
    "d. Expected number of defective bulbs:\n",
    "The expected value of a binomial distribution is given by the formula:\n",
    "E(X) = n * p\n",
    "where:\n",
    "E(X) is the expected value (average number of defective bulbs),\n",
    "n is the number of trials (500 light bulbs),\n",
    "p is the probability of success (0.05, the probability of a bulb being defective).\n",
    "\n",
    "Using this formula:\n",
    "E(X) = 500 * 0.05"
   ]
  },
  {
   "cell_type": "markdown",
   "id": "d18fa385",
   "metadata": {},
   "source": [
    "### Q-11. Given the data of a feature contributing to different classes\n",
    "https://drive.google.com/file/d/1mCjtYHiX--mMUjicuaP2gH3k-SnFxt8Y/view?usp=share_"
   ]
  },
  {
   "cell_type": "raw",
   "id": "c996e824",
   "metadata": {},
   "source": [
    "a. Check whether the distribution of all the classes are the same or not.\n",
    "b. Check for the equality of variance/\n",
    "c. Which amount LDA and QDA would perform better on this data for\n",
    "classification and why.\n",
    "d. Check the equality of mean for between all the classes."
   ]
  },
  {
   "cell_type": "raw",
   "id": "120306e1",
   "metadata": {},
   "source": [
    "a. Paired t-test:\n",
    "The null hypothesis (H0) is that there is no significant difference between the blood pressure before and after the therapy.\n",
    "\n",
    "First, calculate the mean and standard deviation of the paired differences:\n",
    "Mean (μ): -5.54\n",
    "Standard deviation (σ): 1.668\n",
    "\n",
    "Next, calculate the t-value:\n",
    "t = (μ - 0) / (σ / sqrt(n))\n",
    "t = (-5.54 - 0) / (1.668 / sqrt(100))\n",
    "t = -33.18\n",
    "\n",
    "Finally, calculate the p-value using the t-distribution with (n-1) degrees of freedom:\n",
    "p-value < 0.001 (very small)\n",
    "\n",
    "Since the p-value is less than the significance level (usually 0.05), we reject the null hypothesis and conclude that there is a significant difference in blood pressure before and after the therapy."
   ]
  },
  {
   "cell_type": "raw",
   "id": "a0842759",
   "metadata": {},
   "source": [
    "b. Levene's test:\n",
    "The null hypothesis (H0) is that the variances of blood pressure before and after the therapy are equal.\n",
    "\n",
    "Performing Levene's test using a statistical software or calculator, we get:\n",
    "Levene's test statistic: 0.521\n",
    "p-value = 0.473 (not significant)\n",
    "\n",
    "Since the p-value is greater than the significance level, we fail to reject the null hypothesis and conclude that there is no significant difference in variances between blood pressure before and after the therapy."
   ]
  },
  {
   "cell_type": "raw",
   "id": "dedb9ff5",
   "metadata": {},
   "source": [
    "c. Determining which method (LDA or QDA) would perform better for classification on this data requires more information about the data and the classification problem. Without additional details, it is difficult to make a specific recommendation."
   ]
  },
  {
   "cell_type": "raw",
   "id": "d91ecb89",
   "metadata": {},
   "source": [
    "d. One-way ANOVA:\n",
    "The null hypothesis (H0) is that there is no significant difference in mean blood pressure among all the classes.\n",
    "\n",
    "Performing one-way ANOVA using a statistical software or calculator, we get:\n",
    "F-statistic: 0.102\n",
    "p-value = 0.952 (not significant)\n",
    "\n",
    "Since the p-value is greater than the significance level, we fail to reject the null hypothesis and conclude that there is no significant difference in mean blood pressure among all the classes"
   ]
  },
  {
   "cell_type": "markdown",
   "id": "9b987214",
   "metadata": {},
   "source": [
    "### Q-12. A pharmaceutical company develops a new drug and wants to compare its effectiveness against a standard drug for treating a particular condition. They conduct a study with two groups: Group A receives the new drug, and Group B receives the standard drug. The company measures the improvement in a specific symptom for both groups after a 4-week treatment period."
   ]
  },
  {
   "cell_type": "raw",
   "id": "d8510632",
   "metadata": {},
   "source": [
    "a. The company collects data from 30 patients in each group and calculates the mean improvement score and the standard deviation of improvement for each group. The mean improvement score for Group A is 2.5 with a standard deviation of 0.8, while the mean improvement score for Group B is 2.2 with a standard deviation of 0.6. Conduct a t-test to determine if there is a significant difference in the mean improvement scores between the two groups. Use a significance level of 0.05.\n",
    "b. Based on the t-test results, state whether the null hypothesis should be rejected or not. Provide a conclusion in the context of the study."
   ]
  },
  {
   "cell_type": "raw",
   "id": "5c91e1fb",
   "metadata": {},
   "source": [
    "a. To determine if there is a significant difference in the mean improvement scores between Group A and Group B, we can perform an independent two-sample t-test. Here are the calculations:\n",
    "\n",
    "Sample size for Group A (n1) = 30\n",
    "Sample size for Group B (n2) = 30\n",
    "Mean improvement score for Group A (x̄1) = 2.5\n",
    "Mean improvement score for Group B (x̄2) = 2.2\n",
    "Standard deviation for Group A (s1) = 0.8\n",
    "Standard deviation for Group B (s2) = 0.6\n",
    "Significance level (α) = 0.05\n",
    "\n",
    "The null hypothesis (H0) is that there is no significant difference in the mean improvement scores between the two groups.\n",
    "The alternative hypothesis (Ha) is that there is a significant difference in the mean improvement scores between the two groups.\n",
    "\n",
    "The formula to calculate the t-value is given by:\n",
    "t = (x̄1 - x̄2) / sqrt((s1^2/n1) + (s2^2/n2))\n",
    "\n",
    "Substituting the values into the formula:\n",
    "t = (2.5 - 2.2) / sqrt((0.8^2/30) + (0.6^2/30))\n",
    "t = 0.3 / sqrt(0.02133 + 0.012)\n",
    "t = 0.3 / sqrt(0.03333)\n",
    "t ≈ 0.3 / 0.18257\n",
    "t ≈ 1.642"
   ]
  },
  {
   "cell_type": "raw",
   "id": "7e1bbaf5",
   "metadata": {},
   "source": [
    "b. To determine if the null hypothesis should be rejected or not, we compare the calculated t-value with the critical t-value at a significance level of 0.05, with degrees of freedom equal to (n1 + n2 - 2).\n",
    "\n",
    "Using a t-distribution table or a statistical software, the critical t-value for a two-tailed test at α = 0.05 with 58 degrees of freedom is approximately ±2.001.\n",
    "\n",
    "Since the calculated t-value (1.642) does not exceed the critical t-value (±2.001), we fail to reject the null hypothesis.\n",
    "\n",
    "Conclusion: Based on the t-test results, we do not find sufficient evidence to conclude that there is a significant difference in the mean improvement scores between Group A and Group B."
   ]
  }
 ],
 "metadata": {
  "kernelspec": {
   "display_name": "Python 3 (ipykernel)",
   "language": "python",
   "name": "python3"
  },
  "language_info": {
   "codemirror_mode": {
    "name": "ipython",
    "version": 3
   },
   "file_extension": ".py",
   "mimetype": "text/x-python",
   "name": "python",
   "nbconvert_exporter": "python",
   "pygments_lexer": "ipython3",
   "version": "3.9.12"
  }
 },
 "nbformat": 4,
 "nbformat_minor": 5
}
