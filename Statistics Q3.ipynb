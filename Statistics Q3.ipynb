{
 "cells": [
  {
   "cell_type": "markdown",
   "id": "11a12774",
   "metadata": {},
   "source": [
    "### Q-3. Consider the ‘Blood Pressure Before’ and ‘Blood Pressure After’ columns from the data and calculate the following\n",
    "https://drive.google.com/file/d/1mCjtYHiX--mMUjicuaP2gH3k-SnFxt8Y/view?usp=share_"
   ]
  },
  {
   "cell_type": "raw",
   "id": "62f4cb27",
   "metadata": {},
   "source": [
    "a. Measure the dispersion in both and interpret the results.\n",
    "b. Calculate mean and 5% confidence interval and plot it in a graph\n",
    "c. Calculate the Mean absolute deviation and Standard deviation and interpret the results.\n",
    "d. Calculate the correlation coefficient and check the significance of it at 1% level of significance."
   ]
  },
  {
   "cell_type": "raw",
   "id": "a56bc2bb",
   "metadata": {},
   "source": [
    "a. To measure the dispersion in the \"Blood Pressure Before\" and \"Blood Pressure After\" data, we can calculate the range, interquartile range (IQR), and variance.\n",
    "\n",
    "Range: The range is the difference between the maximum and minimum values in a dataset. It gives an idea of the spread of the data.\n",
    "Range of \"Blood Pressure Before\" = Maximum value - Minimum value\n",
    "Range of \"Blood Pressure After\" = Maximum value - Minimum value\n",
    "\n",
    "Interquartile Range (IQR): The IQR is the range between the 25th and 75th percentiles, representing the middle 50% of the data.\n",
    "IQR of \"Blood Pressure Before\" = 75th percentile - 25th percentile\n",
    "IQR of \"Blood Pressure After\" = 75th percentile - 25th percentile\n",
    "\n",
    "Variance: The variance measures how far each value in the dataset is from the mean. It gives an indication of the spread around the average.\n",
    "Variance of \"Blood Pressure Before\" = Sum of (each value - mean)^2 / (total number of values)\n",
    "Variance of \"Blood Pressure After\" = Sum of (each value - mean)^2 / (total number of values)\n",
    "\n",
    "Interpreting the results:\n",
    "\n",
    "A larger range indicates a wider spread of values.\n",
    "A larger IQR suggests greater dispersion in the middle 50% of the data.\n",
    "A larger variance implies more variability in the data points."
   ]
  },
  {
   "cell_type": "code",
   "execution_count": null,
   "id": "710e905f",
   "metadata": {},
   "outputs": [],
   "source": []
  },
  {
   "cell_type": "raw",
   "id": "a225e02f",
   "metadata": {},
   "source": [
    "b. To calculate the mean and 5% confidence interval and plot them on a graph, we can follow these steps:\n",
    "\n",
    "Calculate the mean of \"Blood Pressure Before\" and \"Blood Pressure After\":\n",
    "Mean = Sum of all values / Total number of values\n",
    "\n",
    "Calculate the 5% confidence interval:\n",
    "Confidence interval = Mean ± (Critical value * Standard error)\n",
    "The critical value depends on the sample size and desired confidence level. For a 5% confidence level, the critical value is typically 1.96.\n",
    "Standard error = Standard deviation / sqrt(sample size)\n",
    "\n",
    "Plot the mean and confidence interval on a graph:\n",
    "Certainly! To plot the mean and 5% confidence interval for both \"Blood Pressure Before\" and \"Blood Pressure After,\" we can use a bar plot with error bars. Here's an example code using Python and the matplotlib library:"
   ]
  },
  {
   "cell_type": "code",
   "execution_count": 8,
   "id": "abe3bd86",
   "metadata": {},
   "outputs": [],
   "source": [
    "import pandas as pd\n",
    "df=pd.read_csv(\"C:\\\\Users\\\\user\\\\Downloads\\\\data.csv\")"
   ]
  },
  {
   "cell_type": "code",
   "execution_count": 10,
   "id": "ebbbfd9d",
   "metadata": {},
   "outputs": [
    {
     "name": "stderr",
     "output_type": "stream",
     "text": [
      "No artists with labels found to put in legend.  Note that artists whose label start with an underscore are ignored when legend() is called with no argument.\n"
     ]
    },
    {
     "data": {
      "image/png": "[encoded data removed]",
      "text/plain": [
       "<Figure size 432x288 with 1 Axes>"
      ]
     },
     "metadata": {
      "needs_background": "light"
     },
     "output_type": "display_data"
    }
   ],
   "source": [
    "import matplotlib.pyplot as plt\n",
    "import numpy as np\n",
    "\n",
    "# Data\n",
    "blood_pressure_before = df[\" Blood Pressure Before (mmHg)\"]\n",
    "blood_pressure_after = df[\" Blood Pressure After (mmHg)\"]\n",
    "\n",
    "# Calculate mean and standard error\n",
    "mean_before = np.mean(blood_pressure_before)\n",
    "mean_after = np.mean(blood_pressure_after)\n",
    "std_before = np.std(blood_pressure_before)\n",
    "std_after = np.std(blood_pressure_after)\n",
    "n = len(blood_pressure_before)\n",
    "critical_value = 1.96  # For a 5% confidence level\n",
    "\n",
    "\n",
    "# Calculate confidence interval\n",
    "ci_before = critical_value * std_before / np.sqrt(n)\n",
    "ci_after = critical_value * std_after / np.sqrt(n)\n",
    "\n",
    "# Plotting\n",
    "labels = ['Blood Pressure Before', 'Blood Pressure After']\n",
    "mean_values = [mean_before, mean_after]\n",
    "ci_values = [ci_before, ci_after]\n",
    "\n",
    "x = np.arange(len(labels))\n",
    "width = 0.35\n",
    "\n",
    "fig, ax = plt.subplots()\n",
    "rects1 = ax.bar(x, mean_values, width, yerr=ci_values, alpha=0.7)\n",
    "\n",
    "ax.set_ylabel('Mean')\n",
    "ax.set_title('Mean and 5% Confidence Interval')\n",
    "ax.set_xticks(x)\n",
    "ax.set_xticklabels(labels)\n",
    "ax.legend()\n",
    "\n",
    "plt.tight_layout()\n",
    "plt.show()\n"
   ]
  },
  {
   "cell_type": "code",
   "execution_count": null,
   "id": "43c7dd8a",
   "metadata": {},
   "outputs": [],
   "source": []
  },
  {
   "cell_type": "raw",
   "id": "d0ce1401",
   "metadata": {},
   "source": [
    "c. To calculate the mean absolute deviation (MAD) and standard deviation (SD) and interpret the results:\n",
    "\n",
    "Mean Absolute Deviation (MAD): MAD measures the average distance between each data point and the mean.\n",
    "MAD = Sum of (|each value - mean|) / (total number of values)\n",
    "\n",
    "Standard Deviation (SD): SD measures the average deviation from the mean and provides an indication of the spread of the data.\n",
    "SD = sqrt(Variance)\n",
    "\n",
    "Interpreting the results:\n",
    "\n",
    "A larger MAD or SD suggests greater variability in the dataset.\n",
    "A smaller MAD or SD indicates less dispersion around the mean."
   ]
  },
  {
   "cell_type": "code",
   "execution_count": null,
   "id": "e03adc99",
   "metadata": {},
   "outputs": [],
   "source": []
  },
  {
   "cell_type": "raw",
   "id": "2a81cc94",
   "metadata": {},
   "source": [
    "d. To calculate the correlation coefficient and check its significance at the 1% level of significance:\n",
    "\n",
    "Correlation Coefficient: The correlation coefficient measures the strength and direction of the linear relationship between two variables. In this case, it can determine the correlation between \"Blood Pressure Before\" and \"Blood Pressure After.\"\n",
    "There are different methods to calculate the correlation coefficient, such as Pearson correlation coefficient or Spearman correlation coefficient. The choice depends on the nature of the data and the assumptions made.\n",
    "\n",
    "Once you have the correlation coefficient value, you can check its significance at the 1% level of significance using a statistical test such as the t-test or the p-value associated with the correlation coefficient."
   ]
  }
 ],
 "metadata": {
  "kernelspec": {
   "display_name": "Python 3 (ipykernel)",
   "language": "python",
   "name": "python3"
  },
  "language_info": {
   "codemirror_mode": {
    "name": "ipython",
    "version": 3
   },
   "file_extension": ".py",
   "mimetype": "text/x-python",
   "name": "python",
   "nbconvert_exporter": "python",
   "pygments_lexer": "ipython3",
   "version": "3.9.12"
  }
 },
 "nbformat": 4,
 "nbformat_minor": 5
}
