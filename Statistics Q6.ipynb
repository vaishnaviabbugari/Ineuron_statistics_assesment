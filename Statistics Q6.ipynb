{
 "cells": [
  {
   "cell_type": "markdown",
   "id": "4e01fcb1",
   "metadata": {},
   "source": [
    "### Q-6. A pharmaceutical company is developing a drug that is supposed to reduce blood pressure. They conduct a clinical trial with 100 patients and record their blood pressure before and after taking the drug. The company wants to know if the change in blood pressure follows a normal distribution."
   ]
  },
  {
   "cell_type": "raw",
   "id": "088d4ea5",
   "metadata": {},
   "source": [
    "to determine if the change in blood pressure follows a normal distribution, you can perform a statistical test. One commonly used test is the Shapiro-Wilk test, which assesses the normality of a distribution.\n",
    "\n",
    "Here's an example of how you can perform the Shapiro-Wilk test using Python and the SciPy library:"
   ]
  },
  {
   "cell_type": "code",
   "execution_count": 5,
   "id": "e6c0e3e6",
   "metadata": {},
   "outputs": [],
   "source": [
    "df=pd.read_csv(r\"C:\\Users\\user\\Downloads\\data (1).csv\")"
   ]
  },
  {
   "cell_type": "code",
   "execution_count": 6,
   "id": "014a77d9",
   "metadata": {},
   "outputs": [],
   "source": [
    "import pandas as pd\n",
    "from scipy import stats\n",
    "\n",
    "# Create a DataFrame from the provided dataset\n",
    "data = {\n",
    "    'Patient ID': range(0, 100),\n",
    "    'Blood Pressure Before (mmHg)': df[' Blood Pressure Before (mmHg)'],\n",
    "    'Blood Pressure After (mmHg)' : df[' Blood Pressure After (mmHg)']}"
   ]
  },
  {
   "cell_type": "code",
   "execution_count": 7,
   "id": "a6bffba0",
   "metadata": {},
   "outputs": [
    {
     "data": {
      "text/html": [
       "<div>\n",
       "<style scoped>\n",
       "    .dataframe tbody tr th:only-of-type {\n",
       "        vertical-align: middle;\n",
       "    }\n",
       "\n",
       "    .dataframe tbody tr th {\n",
       "        vertical-align: top;\n",
       "    }\n",
       "\n",
       "    .dataframe thead th {\n",
       "        text-align: right;\n",
       "    }\n",
       "</style>\n",
       "<table border=\"1\" class=\"dataframe\">\n",
       "  <thead>\n",
       "    <tr style=\"text-align: right;\">\n",
       "      <th></th>\n",
       "      <th>Patient ID</th>\n",
       "      <th>Blood Pressure Before (mmHg)</th>\n",
       "      <th>Blood Pressure After (mmHg)</th>\n",
       "    </tr>\n",
       "  </thead>\n",
       "  <tbody>\n",
       "    <tr>\n",
       "      <th>0</th>\n",
       "      <td>0</td>\n",
       "      <td>130</td>\n",
       "      <td>120</td>\n",
       "    </tr>\n",
       "    <tr>\n",
       "      <th>1</th>\n",
       "      <td>1</td>\n",
       "      <td>142</td>\n",
       "      <td>135</td>\n",
       "    </tr>\n",
       "    <tr>\n",
       "      <th>2</th>\n",
       "      <td>2</td>\n",
       "      <td>120</td>\n",
       "      <td>118</td>\n",
       "    </tr>\n",
       "    <tr>\n",
       "      <th>3</th>\n",
       "      <td>3</td>\n",
       "      <td>135</td>\n",
       "      <td>127</td>\n",
       "    </tr>\n",
       "    <tr>\n",
       "      <th>4</th>\n",
       "      <td>4</td>\n",
       "      <td>148</td>\n",
       "      <td>140</td>\n",
       "    </tr>\n",
       "    <tr>\n",
       "      <th>...</th>\n",
       "      <td>...</td>\n",
       "      <td>...</td>\n",
       "      <td>...</td>\n",
       "    </tr>\n",
       "    <tr>\n",
       "      <th>95</th>\n",
       "      <td>95</td>\n",
       "      <td>136</td>\n",
       "      <td>129</td>\n",
       "    </tr>\n",
       "    <tr>\n",
       "      <th>96</th>\n",
       "      <td>96</td>\n",
       "      <td>143</td>\n",
       "      <td>137</td>\n",
       "    </tr>\n",
       "    <tr>\n",
       "      <th>97</th>\n",
       "      <td>97</td>\n",
       "      <td>127</td>\n",
       "      <td>123</td>\n",
       "    </tr>\n",
       "    <tr>\n",
       "      <th>98</th>\n",
       "      <td>98</td>\n",
       "      <td>139</td>\n",
       "      <td>135</td>\n",
       "    </tr>\n",
       "    <tr>\n",
       "      <th>99</th>\n",
       "      <td>99</td>\n",
       "      <td>135</td>\n",
       "      <td>130</td>\n",
       "    </tr>\n",
       "  </tbody>\n",
       "</table>\n",
       "<p>100 rows × 3 columns</p>\n",
       "</div>"
      ],
      "text/plain": [
       "    Patient ID  Blood Pressure Before (mmHg)  Blood Pressure After (mmHg)\n",
       "0            0                           130                          120\n",
       "1            1                           142                          135\n",
       "2            2                           120                          118\n",
       "3            3                           135                          127\n",
       "4            4                           148                          140\n",
       "..         ...                           ...                          ...\n",
       "95          95                           136                          129\n",
       "96          96                           143                          137\n",
       "97          97                           127                          123\n",
       "98          98                           139                          135\n",
       "99          99                           135                          130\n",
       "\n",
       "[100 rows x 3 columns]"
      ]
     },
     "execution_count": 7,
     "metadata": {},
     "output_type": "execute_result"
    }
   ],
   "source": [
    "pd.DataFrame(data)"
   ]
  },
  {
   "cell_type": "code",
   "execution_count": 8,
   "id": "aa06e912",
   "metadata": {},
   "outputs": [],
   "source": [
    "# Calculate the difference in blood pressure\n",
    "df['Change in Blood Pressure'] = df[' Blood Pressure Before (mmHg)'] - df[' Blood Pressure After (mmHg)']"
   ]
  },
  {
   "cell_type": "code",
   "execution_count": 9,
   "id": "5a3a875c",
   "metadata": {},
   "outputs": [
    {
     "data": {
      "text/plain": [
       "0     10\n",
       "1      7\n",
       "2      2\n",
       "3      8\n",
       "4      8\n",
       "      ..\n",
       "95     7\n",
       "96     6\n",
       "97     4\n",
       "98     4\n",
       "99     5\n",
       "Name: Change in Blood Pressure, Length: 100, dtype: int64"
      ]
     },
     "execution_count": 9,
     "metadata": {},
     "output_type": "execute_result"
    }
   ],
   "source": [
    "df['Change in Blood Pressure']"
   ]
  }
 ],
 "metadata": {
  "kernelspec": {
   "display_name": "Python 3 (ipykernel)",
   "language": "python",
   "name": "python3"
  },
  "language_info": {
   "codemirror_mode": {
    "name": "ipython",
    "version": 3
   },
   "file_extension": ".py",
   "mimetype": "text/x-python",
   "name": "python",
   "nbconvert_exporter": "python",
   "pygments_lexer": "ipython3",
   "version": "3.9.12"
  }
 },
 "nbformat": 4,
 "nbformat_minor": 5
}
