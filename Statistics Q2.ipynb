{
 "cells": [
  {
   "cell_type": "markdown",
   "id": "dc92c30b",
   "metadata": {},
   "source": [
    "### Q-2. Consider a dataset containing the heights (in centimeters) of 1000 individuals. The mean height is 170 cm with a standard deviation of 10 cm. The dataset is approximately normally distributed, and its skewness is approximately zero. Based on this information, answer the following questions:"
   ]
  },
  {
   "cell_type": "raw",
   "id": "70473076",
   "metadata": {},
   "source": [
    "a. What percentage of individuals in the dataset have heights between 160 cm and 180 cm?\n",
    "b. If we randomly select 100 individuals from the dataset, what is the probability that their average height is greater than 175 cm?\n",
    "c. Assuming the dataset follows a normal distribution, what is the z-score corresponding to a height of 185 cm?\n",
    "d. We know that 5% of the dataset has heights below a certain value. What is the approximate height corresponding to this threshold?\n",
    "e. Calculate the coefficient of variation (CV) for the dataset.\n",
    "f. Calculate the skewness of the dataset and interpret the result."
   ]
  },
  {
   "cell_type": "raw",
   "id": "06e081e9",
   "metadata": {},
   "source": [
    "a. To calculate the percentage of individuals with heights between 160 cm and 180 cm, we need to calculate the area under the normal distribution curve between these two heights. Since the dataset is approximately normally distributed, we can use the properties of the normal distribution.\n",
    "\n",
    "We will use the cumulative distribution function (CDF) of the normal distribution to calculate the percentage."
   ]
  },
  {
   "cell_type": "code",
   "execution_count": 2,
   "id": "67556d67",
   "metadata": {},
   "outputs": [
    {
     "name": "stdout",
     "output_type": "stream",
     "text": [
      "The percentage of individuals with heights between 160 cm and 180 cm is: 68.27%\n"
     ]
    }
   ],
   "source": [
    "import scipy.stats as stats\n",
    "\n",
    "mean_height = 170\n",
    "std_deviation = 10\n",
    "\n",
    "# Calculate the z-scores for the heights\n",
    "z1 = (160 - mean_height) / std_deviation\n",
    "z2 = (180 - mean_height) / std_deviation\n",
    "\n",
    "# Calculate the percentage using CDF\n",
    "percentage = (stats.norm.cdf(z2) - stats.norm.cdf(z1)) * 100\n",
    "\n",
    "print(f\"The percentage of individuals with heights between 160 cm and 180 cm is: {percentage:.2f}%\")"
   ]
  },
  {
   "cell_type": "code",
   "execution_count": null,
   "id": "f401d152",
   "metadata": {},
   "outputs": [],
   "source": []
  },
  {
   "cell_type": "raw",
   "id": "c655914d",
   "metadata": {},
   "source": [
    "b. To calculate the probability that the average height of 100 randomly selected individuals is greater than 175 cm, we need to use the properties of the sampling distribution of the sample mean."
   ]
  },
  {
   "cell_type": "code",
   "execution_count": 3,
   "id": "d8ec9895",
   "metadata": {},
   "outputs": [
    {
     "name": "stdout",
     "output_type": "stream",
     "text": [
      "The probability that the average height of 100 individuals is greater than 175 cm is: 0.0000\n"
     ]
    }
   ],
   "source": [
    "sample_size = 100\n",
    "sample_mean = mean_height\n",
    "sample_std_deviation = std_deviation / (sample_size ** 0.5)\n",
    "\n",
    "# Calculate the z-score for the sample mean\n",
    "z = (175 - sample_mean) / sample_std_deviation\n",
    "\n",
    "# Calculate the probability using the survival function (1 - CDF)\n",
    "probability = 1 - stats.norm.cdf(z)\n",
    "\n",
    "print(f\"The probability that the average height of 100 individuals is greater than 175 cm is: {probability:.4f}\")"
   ]
  },
  {
   "cell_type": "code",
   "execution_count": null,
   "id": "ebb107e7",
   "metadata": {},
   "outputs": [],
   "source": []
  },
  {
   "cell_type": "raw",
   "id": "60f07387",
   "metadata": {},
   "source": [
    "c. To calculate the z-score corresponding to a height of 185 cm, we can use the formula:"
   ]
  },
  {
   "cell_type": "code",
   "execution_count": 4,
   "id": "39b15e7c",
   "metadata": {},
   "outputs": [
    {
     "name": "stdout",
     "output_type": "stream",
     "text": [
      "The z-score corresponding to a height of 185 cm is: 1.50\n"
     ]
    }
   ],
   "source": [
    "height = 185\n",
    "z = (height - mean_height) / std_deviation\n",
    "\n",
    "print(f\"The z-score corresponding to a height of 185 cm is: {z:.2f}\")"
   ]
  },
  {
   "cell_type": "code",
   "execution_count": null,
   "id": "653aebc8",
   "metadata": {},
   "outputs": [],
   "source": []
  },
  {
   "cell_type": "raw",
   "id": "9d14fbc7",
   "metadata": {},
   "source": [
    "d. To find the approximate height corresponding to the threshold of 5%, we can use the inverse of the cumulative distribution function (CDF) of the normal distribution."
   ]
  },
  {
   "cell_type": "code",
   "execution_count": 5,
   "id": "63b1841b",
   "metadata": {},
   "outputs": [
    {
     "name": "stdout",
     "output_type": "stream",
     "text": [
      "The approximate height corresponding to the 5% threshold is: 153.55 cm\n"
     ]
    }
   ],
   "source": [
    "threshold = 0.05\n",
    "\n",
    "# Calculate the z-score corresponding to the threshold\n",
    "z = stats.norm.ppf(threshold)\n",
    "\n",
    "# Calculate the height using the z-score\n",
    "height = mean_height + z * std_deviation\n",
    "\n",
    "print(f\"The approximate height corresponding to the 5% threshold is: {height:.2f} cm\")"
   ]
  },
  {
   "cell_type": "code",
   "execution_count": null,
   "id": "bb557f05",
   "metadata": {},
   "outputs": [],
   "source": []
  },
  {
   "cell_type": "raw",
   "id": "f06d67a9",
   "metadata": {},
   "source": [
    "e. The coefficient of variation (CV) is a measure of relative variability and is calculated as the ratio of the standard deviation to the mean. It provides a standardized measure of dispersion."
   ]
  },
  {
   "cell_type": "code",
   "execution_count": 6,
   "id": "57fd7704",
   "metadata": {},
   "outputs": [
    {
     "name": "stdout",
     "output_type": "stream",
     "text": [
      "The coefficient of variation (CV) for the dataset is: 5.88%\n"
     ]
    }
   ],
   "source": [
    "cv = (std_deviation / mean_height) * 100\n",
    "\n",
    "print(f\"The coefficient of variation (CV) for the dataset is: {cv:.2f}%\")"
   ]
  },
  {
   "cell_type": "code",
   "execution_count": null,
   "id": "cf985d3f",
   "metadata": {},
   "outputs": [],
   "source": []
  },
  {
   "cell_type": "raw",
   "id": "799d6299",
   "metadata": {},
   "source": [
    "f. Skewness is a measure of the asymmetry of a probability distribution. A skewness value of approximately zero indicates that the dataset is approximately symmetric."
   ]
  },
  {
   "cell_type": "code",
   "execution_count": 7,
   "id": "e6076772",
   "metadata": {},
   "outputs": [
    {
     "name": "stdout",
     "output_type": "stream",
     "text": [
      "The skewness of the dataset is approximately zero, indicating that the dataset is approximately symmetric.\n"
     ]
    }
   ],
   "source": [
    "skewness = 0\n",
    "print(\"The skewness of the dataset is approximately zero, indicating that the dataset is approximately symmetric.\")"
   ]
  }
 ],
 "metadata": {
  "kernelspec": {
   "display_name": "Python 3 (ipykernel)",
   "language": "python",
   "name": "python3"
  },
  "language_info": {
   "codemirror_mode": {
    "name": "ipython",
    "version": 3
   },
   "file_extension": ".py",
   "mimetype": "text/x-python",
   "name": "python",
   "nbconvert_exporter": "python",
   "pygments_lexer": "ipython3",
   "version": "3.9.12"
  }
 },
 "nbformat": 4,
 "nbformat_minor": 5
}
